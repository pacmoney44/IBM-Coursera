{
 "cells": [
  {
   "cell_type": "markdown",
   "id": "aaa86698-8cb5-4dda-be44-ea19098a4945",
   "metadata": {},
   "source": [
    "# My Jupyter Notebook"
   ]
  },
  {
   "cell_type": "markdown",
   "id": "ba743fbd-a10d-4c68-95ea-7f88f6cab4fb",
   "metadata": {},
   "source": [
    "# Introduction\n",
    "\n",
    "This is a Jupyter Notebook to test my skills and review information learned in IBM's Tools for Data Scientists\n",
    "\n",
    "**Key Sections Include**"
   ]
  },
  {
   "cell_type": "markdown",
   "id": "3e1d569a-66e9-4dea-808b-f2242b99e227",
   "metadata": {},
   "source": [
    "# Data Science Languages are\n",
    "\n",
    "* Python\n",
    "* R\n",
    "* Swift\n",
    "* Scala\n",
    "* Java\n",
    "* C++\n",
    "* Julia\n",
    "* Javascript\n",
    "* Structured Query Language (SQL)"
   ]
  },
  {
   "cell_type": "markdown",
   "id": "ed30a263-4c8a-49dc-ae16-72b69d7f31fa",
   "metadata": {},
   "source": [
    "# Data Science  Libraries\n",
    "\n",
    "**Python**\n",
    "* NumPy\n",
    "* Pandas\n",
    "* Matplotlib\n",
    "* Seaborn\n",
    "* Scikit-learn\n",
    "* SciPy\n",
    "* TensorFlow\n",
    "\n",
    "**R Libraries**\n",
    "* ggplot\n",
    "* dplyr\n",
    "* tidyr\n",
    "* caret"
   ]
  },
  {
   "cell_type": "markdown",
   "id": "770e4e04-9f31-43a7-866a-f36a22919df1",
   "metadata": {},
   "source": [
    "# Data Science Tools\n",
    "\n",
    "| Tool | Used For |\n",
    "| ---- | -------- |\n",
    "| Apache Spark | an open-source distributed computing framework designed for processing large-scale data and performing real-time data analysis. |\n",
    "| Tableau | Visualization | built-in tools and integrated functionalities are designed to allow users to manage, visualize, and organize data from across sources within a single, fully-supported environment. |\n",
    "| Hadoop | an open-source data science tool that works in distributed processing and computing large datasets, ie, can store and manage a large amount of data. |\n",
    "| Natural Language Toolkit (NLTK) | a comprehensive suite of libraries and tools for natural language processing in Python. |\n"
   ]
  },
  {
   "cell_type": "markdown",
   "id": "1c90a777-38db-4cbb-8a89-d1915ad3dc0c",
   "metadata": {},
   "source": [
    "# Arithmetic Expression Examples\n",
    "#This section provides examples of common arithmetic expressions and their evaluation. Arithmetic expressions involve numerical values and arithmetic operators, such as addition, subtraction, multiplication, division, and exponentiation.\n",
    "\n",
    "**1. Addition**\n",
    "$$2+3=5$$\n",
    "\n",
    "**2. Subtraction:**\n",
    "$$2-1=1$$\n",
    "\n",
    "**3. Multiplication:**\n",
    "$$2*14=28$$\n",
    "\n",
    "**4. Division:**\n",
    "$$60/15=4$$\n",
    "\n",
    "**5. Exponentiation:**\n",
    "$$2**16=65,536$$\n",
    "\n",
    "**6. Order of Operations (PEMDAS/BODMAS):**\n",
    "\n",
    "$$(6+4)*2-1+3=22$$"
   ]
  },
  {
   "cell_type": "code",
   "execution_count": 17,
   "id": "fbdb94f0-aca3-47f8-8e79-aaefa9082a14",
   "metadata": {},
   "outputs": [
    {
     "name": "stdout",
     "output_type": "stream",
     "text": [
      "The product of 10 and 5 is: 50\n",
      "The sum of the product and 2 is: 52\n"
     ]
    }
   ],
   "source": [
    "# Define numbers for calculation\n",
    "number1 = 10\n",
    "number2 = 5\n",
    "number3 = 2\n",
    "\n",
    "# Perform multiplication\n",
    "product = number1 * number2\n",
    "\n",
    "# Perform addition\n",
    "sum_result = product + number3\n",
    "\n",
    "# Print the results\n",
    "print(f\"The product of {number1} and {number2} is: {product}\")\n",
    "print(f\"The sum of the product and {number3} is: {sum_result}\")"
   ]
  },
  {
   "cell_type": "code",
   "execution_count": 27,
   "id": "c34ccc37-93df-4fe8-b831-cf215e3c9bbf",
   "metadata": {},
   "outputs": [
    {
     "name": "stdout",
     "output_type": "stream",
     "text": [
      "60\n",
      "120\n",
      "180\n"
     ]
    }
   ],
   "source": [
    "# Convert minutes to seconds\n",
    "def minutes_to_seconds(minutes):\n",
    "  return 60 * minutes\n",
    "\n",
    "print (minutes_to_seconds(1))\n",
    "print (minutes_to_seconds(2))\n",
    "print (minutes_to_seconds(3))"
   ]
  },
  {
   "cell_type": "markdown",
   "id": "35a2c018-5092-4eb2-b540-69410ca6c03b",
   "metadata": {},
   "source": [
    "#Insert a markdown cell to list Objectives\n",
    "\n",
    "* Exercise 2 - Create a markdown cell with the title of the notebook. (1 pt)\n",
    "* Exercise 3 - Create a markdown cell for an introduction. (1 pt)\n",
    "* Exercise 4 - Create a markdown cell to list data science languages. (3 pts)\n",
    "* Exercise 5 - Create a markdown cell to list data science libraries. (3 pts)\n",
    "* Exercise 6 - Create a markdown cell with a table of Data Science tools. (3 pts)\n",
    "* Exercise 7 - Create a markdown cell introducing arithmetic expression examples. (1 pt)\n",
    "* Exercise 8 - Create a code cell to multiply and add numbers. (2 pts)\n",
    "* Exercise 9 - Create a code cell to convert minutes to hours. (2 pts)\n",
    "* Exercise 10 -Insert a markdown cell to list Objectives. (3 pts)\n",
    "* Exercise 11 - Create a markdown cell to indicate the Author’s name. (2 pts)\n",
    "* Exercise 12 - Share your notebook through GitHub (3 pts)\n",
    "* Exercise 13 - Take a screenshot of the first page of the notebook. (1 pt)"
   ]
  }
 ],
 "metadata": {
  "kernelspec": {
   "display_name": "Python 3 (ipykernel)",
   "language": "python",
   "name": "python3"
  },
  "language_info": {
   "codemirror_mode": {
    "name": "ipython",
    "version": 3
   },
   "file_extension": ".py",
   "mimetype": "text/x-python",
   "name": "python",
   "nbconvert_exporter": "python",
   "pygments_lexer": "ipython3",
   "version": "3.12.8"
  }
 },
 "nbformat": 4,
 "nbformat_minor": 5
}
