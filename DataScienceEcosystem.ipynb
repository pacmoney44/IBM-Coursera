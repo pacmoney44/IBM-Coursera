{
 "cells": [
  {
   "cell_type": "markdown",
   "id": "aaa86698-8cb5-4dda-be44-ea19098a4945",
   "metadata": {},
   "source": [
    "# Data Science Tools and Ecosystem"
   ]
  },
  {
   "cell_type": "markdown",
   "id": "ba743fbd-a10d-4c68-95ea-7f88f6cab4fb",
   "metadata": {},
   "source": [
    "# Introduction\n",
    "\n",
    "In this notebook, Data Science Tools and Ecosystem are summarized."
   ]
  },
  {
   "cell_type": "markdown",
   "id": "3e1d569a-66e9-4dea-808b-f2242b99e227",
   "metadata": {},
   "source": [
    "# Data Science Languages are\n",
    "\n",
    "1. Python\n",
    "1. R\n",
    "1. Swift\n",
    "1. Scala\n",
    "1. Java\n",
    "1. C++\n",
    "1. Julia\n",
    "1. Javascript\n",
    "1. Structured Query Language (SQL)"
   ]
  },
  {
   "attachments": {},
   "cell_type": "markdown",
   "id": "ed30a263-4c8a-49dc-ae16-72b69d7f31fa",
   "metadata": {},
   "source": [
    "# Data Science  Libraries\n",
    "\n",
    "**Python**\n",
    "1.  NumPy\n",
    "1.  Pandas\n",
    "1.  Matplotlib\n",
    "1.  Seaborn\n",
    "1.  Scikit-learn\n",
    "1.  SciPy\n",
    "1.  TensorFlow\n",
    "\n",
    "**R Libraries**\n",
    "1.  ggplot\n",
    "1.  dplyr\n",
    "1.  tidyr\n",
    "1.  caret "
   ]
  },
  {
   "cell_type": "markdown",
   "id": "770e4e04-9f31-43a7-866a-f36a22919df1",
   "metadata": {},
   "source": [
    "# Data Science Tools\n",
    "\n",
    "| Data Science Tools |\n",
    "| ------------- |\n",
    "| Apache Spark |\n",
    "| Tableau | \n",
    "| Hadoop |\n",
    "| Natural Language Toolkit (NLTK) |"
   ]
  },
  {
   "cell_type": "markdown",
   "id": "1c90a777-38db-4cbb-8a89-d1915ad3dc0c",
   "metadata": {},
   "source": [
    "### Arithmetic Expression Examples\n",
    "#This section provides examples of common arithmetic expressions and their evaluation. Arithmetic expressions involve numerical values and arithmetic operators, such as addition, subtraction, multiplication, division, and exponentiation.\n",
    "\n",
    "**1. Addition**\n",
    "$$2+3=5$$\n",
    "\n",
    "**2. Subtraction:**\n",
    "$$2-1=1$$\n",
    "\n",
    "**3. Multiplication:**\n",
    "$$2*14=28$$\n",
    "\n",
    "**4. Division:**\n",
    "$$60/15=4$$\n",
    "\n",
    "**5. Exponentiation:**\n",
    "$$2**16=65,536$$\n",
    "\n",
    "**6. Order of Operations (PEMDAS/BODMAS):**\n",
    "\n",
    "$$(6+4)*2-1+3=22$$"
   ]
  },
  {
   "cell_type": "code",
   "execution_count": 32,
   "id": "fbdb94f0-aca3-47f8-8e79-aaefa9082a14",
   "metadata": {},
   "outputs": [
    {
     "name": "stdout",
     "output_type": "stream",
     "text": [
      "17\n"
     ]
    }
   ],
   "source": [
    "# Define numbers for calculation\n",
    "\n",
    "number1 = 3\n",
    "number2 = 4\n",
    "number3 = 5\n",
    "\n",
    "# This a simple arithmetic expression to mutiply then add integers\n",
    "product = number1 * number2\n",
    "\n",
    "# Perform addition\n",
    "sum_result = product + number3\n",
    "\n",
    "\n",
    "print(sum_result)"
   ]
  },
  {
   "cell_type": "code",
   "execution_count": 37,
   "id": "c34ccc37-93df-4fe8-b831-cf215e3c9bbf",
   "metadata": {},
   "outputs": [
    {
     "name": "stdout",
     "output_type": "stream",
     "text": [
      "3.3333333333333335\n"
     ]
    }
   ],
   "source": [
    "# Convert minutes to seconds\n",
    "def minutes_to_hours(minutes):\n",
    "  return minutes/60\n",
    "\n",
    "print (minutes_to_hours(200)) #hours"
   ]
  },
  {
   "cell_type": "markdown",
   "id": "35a2c018-5092-4eb2-b540-69410ca6c03b",
   "metadata": {},
   "source": [
    "**#Insert a markdown cell to list Objectives**\n",
    "\n",
    "* Exercise 2 - Create a markdown cell with the title of the notebook. (1 pt)\n",
    "* Exercise 3 - Create a markdown cell for an introduction. (1 pt)\n",
    "* Exercise 4 - Create a markdown cell to list data science languages. (3 pts)\n",
    "* Exercise 5 - Create a markdown cell to list data science libraries. (3 pts)\n",
    "* Exercise 6 - Create a markdown cell with a table of Data Science tools. (3 pts)\n",
    "* Exercise 7 - Create a markdown cell introducing arithmetic expression examples. (1 pt)\n",
    "* Exercise 8 - Create a code cell to multiply and add numbers. (2 pts)\n",
    "* Exercise 9 - Create a code cell to convert minutes to hours. (2 pts)\n",
    "* Exercise 10 -Insert a markdown cell to list Objectives. (3 pts)\n",
    "* Exercise 11 - Create a markdown cell to indicate the Author’s name. (2 pts)\n",
    "* Exercise 12 - Share your notebook through GitHub (3 pts)\n",
    "* Exercise 13 - Take a screenshot of the first page of the notebook. (1 pt)"
   ]
  },
  {
   "cell_type": "markdown",
   "id": "c14bb79a-ae3f-49ab-a123-62f427ea3c8d",
   "metadata": {},
   "source": [
    "## Author"
   ]
  },
  {
   "cell_type": "code",
   "execution_count": null,
   "id": "987812f1-4756-4f09-8b70-4c5dc9c28d4b",
   "metadata": {},
   "outputs": [],
   "source": []
  }
 ],
 "metadata": {
  "kernelspec": {
   "display_name": "Python 3 (ipykernel)",
   "language": "python",
   "name": "python3"
  },
  "language_info": {
   "codemirror_mode": {
    "name": "ipython",
    "version": 3
   },
   "file_extension": ".py",
   "mimetype": "text/x-python",
   "name": "python",
   "nbconvert_exporter": "python",
   "pygments_lexer": "ipython3",
   "version": "3.12.8"
  }
 },
 "nbformat": 4,
 "nbformat_minor": 5
}
